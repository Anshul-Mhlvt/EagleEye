{
 "cells": [
  {
   "cell_type": "code",
   "execution_count": 10,
   "id": "1d279b63",
   "metadata": {},
   "outputs": [],
   "source": [
    "import numpy as np\n",
    "import imutils\n",
    "import argparse\n",
    "import cv2"
   ]
  },
  {
   "cell_type": "code",
   "execution_count": 11,
   "id": "5e289f74",
   "metadata": {},
   "outputs": [],
   "source": [
    "HOGCV = cv2.HOGDescriptor()\n",
    "HOGCV.setSVMDetector(cv2.HOGDescriptor_getDefaultPeopleDetector())"
   ]
  },
  {
   "cell_type": "code",
   "execution_count": 12,
   "id": "9042d3ad",
   "metadata": {},
   "outputs": [],
   "source": [
    "def detect(frame):\n",
    "    bounding_box_cordinates, weights =  HOGCV.detectMultiScale(frame, winStride = (4, 4), padding = (8, 8), scale = 1.03)\n",
    "    \n",
    "    person = 1\n",
    "    for x,y,w,h in bounding_box_cordinates:\n",
    "        cv2.rectangle(frame, (x,y), (x+w,y+h), (0,255,0), 2)\n",
    "        cv2.putText(frame, f'person {person}', (x,y), cv2.FONT_HERSHEY_SIMPLEX, 0.5, (0,0,255), 1)\n",
    "        person += 1\n",
    "    \n",
    "    cv2.putText(frame, 'Status : Detecting ', (40,40), cv2.FONT_HERSHEY_DUPLEX, 0.8, (255,0,0), 2)\n",
    "    cv2.putText(frame, f'Total Persons : {person-1}', (40,70), cv2.FONT_HERSHEY_DUPLEX, 0.8, (255,0,0), 2)\n",
    "    cv2.imshow('output', frame)\n",
    "\n",
    "    return frame"
   ]
  },
  {
   "cell_type": "code",
   "execution_count": 13,
   "id": "14357b5d",
   "metadata": {},
   "outputs": [],
   "source": [
    "def detectByPathVideo(path, writer):\n",
    "    video = cv2.VideoCapture(path)\n",
    "    check, frame = video.read()\n",
    "    if check == False:\n",
    "        print('Video Not Found. Please Enter Valid Path (Full path of Video).')\n",
    "        return\n",
    "    print('Detecting people...')\n",
    "    while video.isOpened():\n",
    "        #check True if reading was successful \n",
    "        check, frame =  video.read()\n",
    "        if check:\n",
    "            frame = imutils.resize(frame , width=min(800,frame.shape[1]))\n",
    "            frame = detect(frame)\n",
    "            \n",
    "            if writer is not None:\n",
    "                writer.write(frame)\n",
    "            \n",
    "            key = cv2.waitKey(1)\n",
    "            if key== ord('q'):\n",
    "                break\n",
    "        else:\n",
    "            break\n",
    "    video.release()\n",
    "    cv2.destroyAllWindows()"
   ]
  },
  {
   "cell_type": "code",
   "execution_count": 14,
   "id": "8427fefa",
   "metadata": {},
   "outputs": [],
   "source": [
    "def detectByPathImage(path, output_path):\n",
    "    image = cv2.imread(path)\n",
    "    image = imutils.resize(image, width = min(800, image.shape[1])) \n",
    "    result_image = detect(image)\n",
    "    if output_path is not None:\n",
    "        cv2.imwrite(output_path, result_image)\n",
    "    cv2.waitKey(0)\n",
    "    cv2.destroyAllWindows()"
   ]
  },
  {
   "cell_type": "code",
   "execution_count": 15,
   "id": "3f290370",
   "metadata": {},
   "outputs": [],
   "source": [
    "def detectByCamera(writer):   \n",
    "    video = cv2.VideoCapture(0)\n",
    "    print('Detecting people...')\n",
    "\n",
    "    while True:\n",
    "        check, frame = video.read()\n",
    "\n",
    "        frame = detect(frame)\n",
    "        if writer is not None:\n",
    "            writer.write(frame)\n",
    "\n",
    "        key = cv2.waitKey(1)\n",
    "        if key == ord('q'):\n",
    "            break\n",
    "\n",
    "    video.release()\n",
    "    cv2.destroyAllWindows()"
   ]
  },
  {
   "cell_type": "code",
   "execution_count": 16,
   "id": "bdcd788a",
   "metadata": {},
   "outputs": [],
   "source": [
    "def humanDetector(inp_type,inp_path,output_path=''):\n",
    "    image_path = ''\n",
    "    camera = False\n",
    "    video_path = ''\n",
    "    writer = None\n",
    "    if inp_type == 'camera' : camera = True \n",
    "    if inp_type == 'image' : image_path = inp_path\n",
    "    if inp_type == 'video': video_path = inp_path\n",
    "    if output_path is not None and image_path is None:\n",
    "        writer = cv2.VideoWriter(output_path,cv2.VideoWriter_fourcc(*'MJPG'), 10, (600,600))\n",
    "    if camera:\n",
    "        print('Turning camera ON')\n",
    "        detectByCamera(ouput_path,writer)\n",
    "    elif video_path is not None:\n",
    "        print('Opening Video from path.')\n",
    "        detectByPathVideo(video_path, writer)\n",
    "    elif image_path is not None:\n",
    "        print('Opening Image from path.')\n",
    "        detectByPathImage(image_path, output_path)"
   ]
  },
  {
   "cell_type": "code",
   "execution_count": 17,
   "id": "e6aa144d",
   "metadata": {},
   "outputs": [
    {
     "name": "stdout",
     "output_type": "stream",
     "text": [
      "Opening Video from path.\n",
      "Detecting people...\n"
     ]
    },
    {
     "name": "stderr",
     "output_type": "stream",
     "text": [
      "2024-03-11 22:48:56.817 python[64032:1306662] not in fullscreen state\n"
     ]
    }
   ],
   "source": [
    "humanDetector('video','data_vid.mp4')"
   ]
  },
  {
   "cell_type": "code",
   "execution_count": null,
   "id": "ba2d4a00",
   "metadata": {},
   "outputs": [],
   "source": []
  }
 ],
 "metadata": {
  "kernelspec": {
   "display_name": "Python 3 (ipykernel)",
   "language": "python",
   "name": "python3"
  },
  "language_info": {
   "codemirror_mode": {
    "name": "ipython",
    "version": 3
   },
   "file_extension": ".py",
   "mimetype": "text/x-python",
   "name": "python",
   "nbconvert_exporter": "python",
   "pygments_lexer": "ipython3",
   "version": "3.11.5"
  }
 },
 "nbformat": 4,
 "nbformat_minor": 5
}
